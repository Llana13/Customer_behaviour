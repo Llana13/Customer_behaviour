{
 "cells": [
  {
   "cell_type": "code",
   "execution_count": 1,
   "metadata": {},
   "outputs": [],
   "source": [
    "from coordinates import *\n",
    "from classes import *\n",
    "import movements as m"
   ]
  },
  {
   "cell_type": "code",
   "execution_count": 37,
   "metadata": {},
   "outputs": [],
   "source": [
    "LOCATIONS = ['drinks_coord', 'dairy_coord', 'spices_coord', 'fruit_coord', 'entrance_coord']\n",
    "\n",
    "LIST_START = [fruit_coord]\n",
    "LIST_DESTINATION = [spices_coord]"
   ]
  },
  {
   "cell_type": "code",
   "execution_count": 42,
   "metadata": {},
   "outputs": [
    {
     "name": "stderr",
     "output_type": "stream",
     "text": [
      "/home/alex/anaconda3/lib/python3.7/site-packages/ipykernel_launcher.py:4: FutureWarning: elementwise comparison failed; returning scalar instead, but in the future will perform elementwise comparison\n",
      "  after removing the cwd from sys.path.\n"
     ]
    },
    {
     "ename": "NameError",
     "evalue": "name 'Customer' is not defined",
     "output_type": "error",
     "traceback": [
      "\u001b[0;31m---------------------------------------------------------------------------\u001b[0m",
      "\u001b[0;31mNameError\u001b[0m                                 Traceback (most recent call last)",
      "\u001b[0;32m<ipython-input-42-527fa536b89f>\u001b[0m in \u001b[0;36m<module>\u001b[0;34m\u001b[0m\n\u001b[1;32m     45\u001b[0m     \u001b[0;32melse\u001b[0m\u001b[0;34m:\u001b[0m\u001b[0;34m\u001b[0m\u001b[0;34m\u001b[0m\u001b[0m\n\u001b[1;32m     46\u001b[0m         \u001b[0;32mif\u001b[0m \u001b[0mstart_coord\u001b[0m \u001b[0;32mis\u001b[0m \u001b[0mfruit_coord\u001b[0m\u001b[0;34m:\u001b[0m\u001b[0;34m\u001b[0m\u001b[0;34m\u001b[0m\u001b[0m\n\u001b[0;32m---> 47\u001b[0;31m             \u001b[0mm\u001b[0m\u001b[0;34m.\u001b[0m\u001b[0mfruit_checkout\u001b[0m\u001b[0;34m(\u001b[0m\u001b[0;34m)\u001b[0m\u001b[0;34m\u001b[0m\u001b[0;34m\u001b[0m\u001b[0m\n\u001b[0m\u001b[1;32m     48\u001b[0m \u001b[0;34m\u001b[0m\u001b[0m\n\u001b[1;32m     49\u001b[0m         \u001b[0;32melif\u001b[0m \u001b[0mstart_coord\u001b[0m \u001b[0;32mis\u001b[0m \u001b[0mspices_coord\u001b[0m\u001b[0;34m:\u001b[0m\u001b[0;34m\u001b[0m\u001b[0;34m\u001b[0m\u001b[0m\n",
      "\u001b[0;32m~/repositories/Supermarket/movements.py\u001b[0m in \u001b[0;36mfruit_checkout\u001b[0;34m()\u001b[0m\n\u001b[1;32m    142\u001b[0m     \u001b[0mmove_to\u001b[0m\u001b[0;34m(\u001b[0m\u001b[0mcustomer\u001b[0m\u001b[0;34m,\u001b[0m \u001b[0msupermarket\u001b[0m\u001b[0;34m,\u001b[0m \u001b[0;36m250\u001b[0m\u001b[0;34m,\u001b[0m \u001b[0mcustomer\u001b[0m\u001b[0;34m.\u001b[0m\u001b[0myx\u001b[0m\u001b[0;34m[\u001b[0m\u001b[0;36m1\u001b[0m\u001b[0;34m]\u001b[0m\u001b[0;34m)\u001b[0m\u001b[0;34m\u001b[0m\u001b[0;34m\u001b[0m\u001b[0m\n\u001b[1;32m    143\u001b[0m \u001b[0;34m\u001b[0m\u001b[0m\n\u001b[0;32m--> 144\u001b[0;31m \u001b[0;32mdef\u001b[0m \u001b[0mfruit_checkout\u001b[0m\u001b[0;34m(\u001b[0m\u001b[0;34m)\u001b[0m\u001b[0;34m:\u001b[0m\u001b[0;34m\u001b[0m\u001b[0;34m\u001b[0m\u001b[0m\n\u001b[0m\u001b[1;32m    145\u001b[0m     \u001b[0mcustomer\u001b[0m \u001b[0;34m=\u001b[0m \u001b[0mCustomer\u001b[0m\u001b[0;34m(\u001b[0m\u001b[0mstart_coord\u001b[0m\u001b[0;34m,\u001b[0m \u001b[0mvv\u001b[0m\u001b[0;34m)\u001b[0m\u001b[0;34m\u001b[0m\u001b[0;34m\u001b[0m\u001b[0m\n\u001b[1;32m    146\u001b[0m     \u001b[0msupermarket\u001b[0m \u001b[0;34m=\u001b[0m \u001b[0mSupermarket\u001b[0m\u001b[0;34m(\u001b[0m\u001b[0;34m[\u001b[0m\u001b[0mcustomer\u001b[0m\u001b[0;34m]\u001b[0m\u001b[0;34m)\u001b[0m\u001b[0;34m\u001b[0m\u001b[0;34m\u001b[0m\u001b[0m\n",
      "\u001b[0;31mNameError\u001b[0m: name 'Customer' is not defined"
     ]
    }
   ],
   "source": [
    "for start_coord, destination_coord in zip(LIST_START, LIST_DESTINATION):\n",
    "\n",
    "    #destination is not checkout\n",
    "    if np.any(destination_coord in LOCATIONS):\n",
    "        \n",
    "        if start_coord is entrance_coord and destination_coord is fruit_coord:\n",
    "            entrance_fruit()\n",
    "\n",
    "        elif start_coord is fruit_coord and destination_coord is spices_coord:\n",
    "            m.fruit_spices()\n",
    "\n",
    "        elif start_coord is fruit_coord and destination_coord is dairy_coord:\n",
    "            m.fruit_dairy()\n",
    "\n",
    "        elif start_coord is fruit_coord and destination_coord is drinks_coord:\n",
    "            m.fruit_drinks()\n",
    "\n",
    "        elif start_coord is spices_coord and destination_coord is fruit_coord:\n",
    "            m.spices_fruit()\n",
    "\n",
    "        elif start_coord is spices_coord and destination_coord is dairy_coord:\n",
    "            m.spices_dairy()\n",
    "\n",
    "        elif start_coord is spices_coord and destination_coord is drinks_coord:\n",
    "            m.spices_drinks()\n",
    "\n",
    "        elif start_coord is dairy_coord and destination_coord is fruit_coord:\n",
    "            m.dairy_fruit()\n",
    "\n",
    "        elif start_coord is dairy_coord and destination_coord is spices_coord:\n",
    "            m.dairy_spices()\n",
    "\n",
    "        elif start_coord is dairy_coord and destination_coord is drinks_coord:\n",
    "            m.dairy_drinks()\n",
    "\n",
    "        elif start_coord is drinks_coord and destination_coord is fruit_coord:\n",
    "            m.drinks_fruit()\n",
    "\n",
    "        elif start_coord is drinks_coord and destination_coord is spices_coord:\n",
    "            m.drinks_spices()\n",
    "        else:\n",
    "            m.drinks_dairy()\n",
    "\n",
    "    # destination is checkout\n",
    "    else:\n",
    "        if start_coord is fruit_coord:\n",
    "            m.fruit_checkout()\n",
    "\n",
    "        elif start_coord is spices_coord:\n",
    "            m.spices_checkout()\n",
    "\n",
    "        elif start_coord is dairy_coord:\n",
    "            m.dairy_checkout()\n",
    "\n",
    "        else: # start_coord is drinks_coord:\n",
    "            m.drinks_checkout()"
   ]
  }
 ],
 "metadata": {
  "kernelspec": {
   "display_name": "Python 3",
   "language": "python",
   "name": "python3"
  },
  "language_info": {
   "codemirror_mode": {
    "name": "ipython",
    "version": 3
   },
   "file_extension": ".py",
   "mimetype": "text/x-python",
   "name": "python",
   "nbconvert_exporter": "python",
   "pygments_lexer": "ipython3",
   "version": "3.7.4"
  }
 },
 "nbformat": 4,
 "nbformat_minor": 4
}
