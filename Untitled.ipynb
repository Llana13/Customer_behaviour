{
 "cells": [
  {
   "cell_type": "code",
   "execution_count": 1,
   "metadata": {},
   "outputs": [],
   "source": [
    "from coordinates import *\n",
    "from classes import *\n",
    "import movements as m"
   ]
  },
  {
   "cell_type": "code",
   "execution_count": 2,
   "metadata": {},
   "outputs": [],
   "source": [
    "LOCATIONS = ['drinks_coord', 'dairy_coord', 'spices_coord', 'fruit_coord', 'entrance_coord']\n",
    "\n",
    "LIST_START = [fruit_coord]\n",
    "LIST_DESTINATION = [spices_coord]"
   ]
  },
  {
   "cell_type": "code",
   "execution_count": 4,
   "metadata": {},
   "outputs": [],
   "source": [
    "vv = [0,0]"
   ]
  },
  {
   "cell_type": "code",
   "execution_count": 5,
   "metadata": {},
   "outputs": [
    {
     "ename": "NameError",
     "evalue": "name 'vv' is not defined",
     "output_type": "error",
     "traceback": [
      "\u001b[0;31m---------------------------------------------------------------------------\u001b[0m",
      "\u001b[0;31mNameError\u001b[0m                                 Traceback (most recent call last)",
      "\u001b[0;32m<ipython-input-5-af0ebc48ed5e>\u001b[0m in \u001b[0;36m<module>\u001b[0;34m\u001b[0m\n\u001b[1;32m      5\u001b[0m \u001b[0;34m\u001b[0m\u001b[0m\n\u001b[1;32m      6\u001b[0m     \u001b[0;32melif\u001b[0m \u001b[0mstart_coord\u001b[0m \u001b[0;32mis\u001b[0m \u001b[0mfruit_coord\u001b[0m \u001b[0;32mand\u001b[0m \u001b[0mdestination_coord\u001b[0m \u001b[0;32mis\u001b[0m \u001b[0mspices_coord\u001b[0m\u001b[0;34m:\u001b[0m\u001b[0;34m\u001b[0m\u001b[0;34m\u001b[0m\u001b[0m\n\u001b[0;32m----> 7\u001b[0;31m         \u001b[0mm\u001b[0m\u001b[0;34m.\u001b[0m\u001b[0mfruit_spices\u001b[0m\u001b[0;34m(\u001b[0m\u001b[0mstart_coord\u001b[0m\u001b[0;34m)\u001b[0m\u001b[0;34m\u001b[0m\u001b[0;34m\u001b[0m\u001b[0m\n\u001b[0m\u001b[1;32m      8\u001b[0m \u001b[0;34m\u001b[0m\u001b[0m\n\u001b[1;32m      9\u001b[0m     \u001b[0;32melif\u001b[0m \u001b[0mstart_coord\u001b[0m \u001b[0;32mis\u001b[0m \u001b[0mfruit_coord\u001b[0m \u001b[0;32mand\u001b[0m \u001b[0mdestination_coord\u001b[0m \u001b[0;32mis\u001b[0m \u001b[0mdairy_coord\u001b[0m\u001b[0;34m:\u001b[0m\u001b[0;34m\u001b[0m\u001b[0;34m\u001b[0m\u001b[0m\n",
      "\u001b[0;32m~/repositories/Supermarket/movements.py\u001b[0m in \u001b[0;36mfruit_spices\u001b[0;34m(start_coord)\u001b[0m\n\u001b[1;32m     49\u001b[0m \u001b[0;34m\u001b[0m\u001b[0m\n\u001b[1;32m     50\u001b[0m \u001b[0;32mdef\u001b[0m \u001b[0mfruit_spices\u001b[0m\u001b[0;34m(\u001b[0m\u001b[0mstart_coord\u001b[0m\u001b[0;34m)\u001b[0m\u001b[0;34m:\u001b[0m\u001b[0;34m\u001b[0m\u001b[0;34m\u001b[0m\u001b[0m\n\u001b[0;32m---> 51\u001b[0;31m     \u001b[0mcustomer\u001b[0m \u001b[0;34m=\u001b[0m \u001b[0mCustomer\u001b[0m\u001b[0;34m(\u001b[0m\u001b[0mstart_coord\u001b[0m\u001b[0;34m,\u001b[0m \u001b[0mvv\u001b[0m\u001b[0;34m)\u001b[0m\u001b[0;34m\u001b[0m\u001b[0;34m\u001b[0m\u001b[0m\n\u001b[0m\u001b[1;32m     52\u001b[0m     \u001b[0msupermarket\u001b[0m \u001b[0;34m=\u001b[0m \u001b[0mSupermarket\u001b[0m\u001b[0;34m(\u001b[0m\u001b[0;34m[\u001b[0m\u001b[0mcustomer\u001b[0m\u001b[0;34m]\u001b[0m\u001b[0;34m)\u001b[0m\u001b[0;34m\u001b[0m\u001b[0;34m\u001b[0m\u001b[0m\n\u001b[1;32m     53\u001b[0m     \u001b[0mmove_to\u001b[0m\u001b[0;34m(\u001b[0m\u001b[0mcustomer\u001b[0m\u001b[0;34m,\u001b[0m \u001b[0msupermarket\u001b[0m\u001b[0;34m,\u001b[0m \u001b[0;36m60\u001b[0m\u001b[0;34m,\u001b[0m \u001b[0mcustomer\u001b[0m\u001b[0;34m.\u001b[0m\u001b[0myx\u001b[0m\u001b[0;34m[\u001b[0m\u001b[0;36m1\u001b[0m\u001b[0;34m]\u001b[0m\u001b[0;34m)\u001b[0m \u001b[0;31m# f to fu\u001b[0m\u001b[0;34m\u001b[0m\u001b[0;34m\u001b[0m\u001b[0m\n",
      "\u001b[0;31mNameError\u001b[0m: name 'vv' is not defined"
     ]
    }
   ],
   "source": [
    "for start_coord, destination_coord in zip(LIST_START, LIST_DESTINATION):\n",
    "        \n",
    "    if start_coord is entrance_coord and destination_coord is fruit_coord:\n",
    "        m.entrance_fruit()\n",
    "\n",
    "    elif start_coord is fruit_coord and destination_coord is spices_coord:\n",
    "        m.fruit_spices(start_coord, [0,0])\n",
    "\n",
    "    elif start_coord is fruit_coord and destination_coord is dairy_coord:\n",
    "        m.fruit_dairy()\n",
    "\n",
    "    elif start_coord is fruit_coord and destination_coord is drinks_coord:\n",
    "        m.fruit_drinks()\n",
    "\n",
    "    elif start_coord is spices_coord and destination_coord is fruit_coord:\n",
    "        m.spices_fruit()\n",
    "\n",
    "    elif start_coord is spices_coord and destination_coord is dairy_coord:\n",
    "        m.spices_dairy()\n",
    "\n",
    "    elif start_coord is spices_coord and destination_coord is drinks_coord:\n",
    "        m.spices_drinks()\n",
    "\n",
    "    elif start_coord is dairy_coord and destination_coord is fruit_coord:\n",
    "        m.dairy_fruit()\n",
    "\n",
    "    elif start_coord is dairy_coord and destination_coord is spices_coord:\n",
    "        m.dairy_spices()\n",
    "\n",
    "    elif start_coord is dairy_coord and destination_coord is drinks_coord:\n",
    "        m.dairy_drinks()\n",
    "\n",
    "    elif start_coord is drinks_coord and destination_coord is fruit_coord:\n",
    "        m.drinks_fruit()\n",
    "\n",
    "    elif start_coord is drinks_coord and destination_coord is spices_coord:\n",
    "        m.drinks_spices()\n",
    "\n",
    "    elif start_coord is drinks_coord and destination_coord is dairy_coord:\n",
    "        m.drinks_dairy()\n",
    "\n",
    "    elif start_coord is fruit_coord and destination_coord is fruit_check_coord:\n",
    "        m.fruit_checkout()\n",
    "\n",
    "    elif start_coord is spices_coord and destination_coord is spices_check_coord:\n",
    "        m.spices_checkout()\n",
    "\n",
    "    elif start_coord is dairy_coord and destination_coord is dairy_check_coord:\n",
    "        m.dairy_checkout()\n",
    "\n",
    "    else: \n",
    "        m.drinks_checkout()\n"
   ]
  }
 ],
 "metadata": {
  "kernelspec": {
   "display_name": "Python 3",
   "language": "python",
   "name": "python3"
  },
  "language_info": {
   "codemirror_mode": {
    "name": "ipython",
    "version": 3
   },
   "file_extension": ".py",
   "mimetype": "text/x-python",
   "name": "python",
   "nbconvert_exporter": "python",
   "pygments_lexer": "ipython3",
   "version": "3.7.4"
  }
 },
 "nbformat": 4,
 "nbformat_minor": 4
}
